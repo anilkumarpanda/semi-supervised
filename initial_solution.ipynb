{
 "cells": [
  {
   "cell_type": "markdown",
   "metadata": {},
   "source": [
    "# Semisupervised Hackathon\n",
    "## Simple ML Model"
   ]
  },
  {
   "source": [
    "## 1. Load the libraries & dataset"
   ],
   "cell_type": "markdown",
   "metadata": {}
  },
  {
   "cell_type": "code",
   "execution_count": null,
   "metadata": {},
   "outputs": [],
   "source": [
    "from src.data.preprocessing import DataProcessor\n",
    "from sklearn.feature_extraction.text import TfidfVectorizer,CountVectorizer,TfidfTransformer\n",
    "from sklearn.linear_model import LogisticRegressionCV,SGDClassifier\n",
    "from sklearn.pipeline import make_pipeline,Pipeline\n",
    "from sklearn.metrics import roc_auc_score \n",
    "import pandas as pd \n"
   ]
  },
  {
   "cell_type": "code",
   "execution_count": null,
   "metadata": {},
   "outputs": [],
   "source": [
    "#1.Read the dataset\n",
    "train_data = pd.read_csv('data/train.csv')\n",
    "test_data = pd.read_csv('data/test.csv')\n",
    "\n",
    "X_train = train_data[['title','text']]\n",
    "y_train = train_data[['label']]\n",
    "\n",
    "X_test = test_data[['title','text']]"
   ]
  },
  {
   "source": [
    "## 2. Create a simple model."
   ],
   "cell_type": "markdown",
   "metadata": {}
  },
  {
   "cell_type": "code",
   "execution_count": null,
   "metadata": {},
   "outputs": [],
   "source": [
    "# Preprocess the dataset. \n",
    "dp = DataProcessor(replace_digits=True, max_news_size=500)\n",
    "xtrain = dp.transform(X_train,data_cols=['title','text']) \n",
    "xtest = dp.transform(X_test,data_cols=['title','text'])\n",
    "\n",
    "# Create a simple model.\n",
    "vec = TfidfVectorizer()\n",
    "clf = LogisticRegressionCV(max_iter=1000)\n",
    "pipe = make_pipeline(vec, clf)\n",
    "pipe.fit(xtrain.news, y_train.label)\n",
    "\n",
    "# Create predictions\n",
    "train_probas = pipe.predict_proba(xtrain.news)[:,1]\n",
    "print(f\"Train AUC : {roc_auc_score(y_train,train_probas)}\")\n",
    "probas = pipe.predict_proba(xtest.news)[:,1]"
   ]
  },
  {
   "source": [
    "## 3. Create a submission"
   ],
   "cell_type": "markdown",
   "metadata": {}
  },
  {
   "cell_type": "code",
   "execution_count": null,
   "metadata": {},
   "outputs": [],
   "source": [
    "#Create a sample submission\n",
    "sample_df = pd.DataFrame({\n",
    "    'id':test_data.id,\n",
    "    'label':probas\n",
    "})\n",
    "sample_df.to_csv('data/sample_submission.csv',index=False)"
   ]
  },
  {
   "cell_type": "code",
   "execution_count": null,
   "metadata": {},
   "outputs": [],
   "source": [
    "!kaggle competitions submit -c semi-supervised-2 -f data/sample_submission.csv -m \"Latest submission\""
   ]
  },
  {
   "cell_type": "code",
   "execution_count": null,
   "metadata": {},
   "outputs": [],
   "source": []
  }
 ],
 "metadata": {
  "kernelspec": {
   "name": "python3610jvsc74a57bd08e8814a4ef967ecaf8492651ab534ed1752a80889c1744454da792161c1ce00a",
   "display_name": "Python 3.6.10 64-bit ('gdd3.6': conda)"
  },
  "language_info": {
   "codemirror_mode": {
    "name": "ipython",
    "version": 3
   },
   "file_extension": ".py",
   "mimetype": "text/x-python",
   "name": "python",
   "nbconvert_exporter": "python",
   "pygments_lexer": "ipython3",
   "version": "3.6.10"
  }
 },
 "nbformat": 4,
 "nbformat_minor": 4
}